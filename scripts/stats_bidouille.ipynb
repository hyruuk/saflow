{
 "cells": [
  {
   "cell_type": "code",
   "execution_count": null,
   "metadata": {},
   "outputs": [],
   "source": [
    "import mne\n",
    "from neuro import *\n",
    "from saflow_params import *\n",
    "from behav import *\n",
    "from utils import *\n",
    "from scipy.io import loadmat\n",
    "import scipy\n",
    "import seaborn as sns\n",
    "import pandas as pd\n",
    "import numpy as np\n",
    "import pandas as pd\n",
    "import statsmodels.api as sm\n",
    "import statsmodels.formula.api as smf\n"
   ]
  },
  {
   "cell_type": "code",
   "execution_count": null,
   "metadata": {},
   "outputs": [],
   "source": [
    "PSD_data = load_PSD_data(FOLDERPATH, SUBJ_LIST, BLOCS_LIST, time_avg=True, stage='PSD')\n",
    "\n"
   ]
  },
  {
   "cell_type": "code",
   "execution_count": null,
   "metadata": {},
   "outputs": [],
   "source": [
    "PSD_allsubj, VTC_allsubj, subjIDX_allsubj = prepare_data(FOLDERPATH, LOGS_DIR, SUBJ_LIST, BLOCS_LIST)\n",
    "print('PSD shape : {}'.format(PSD_allsubj.shape))\n",
    "print('VTC shape : {}'.format(VTC_allsubj.shape))\n",
    "print('subjIDX shape : {}'.format(subjIDX_allsubj.shape))"
   ]
  },
  {
   "cell_type": "code",
   "execution_count": null,
   "metadata": {},
   "outputs": [],
   "source": [
    "def prepare_data(FOLDERPATH, LOGS_DIR, SUBJ_LIST, BLOCS_LIST):\n",
    "    PSD_allsubj = []\n",
    "    VTC_allsubj = []\n",
    "    subjIDX_allsubj = []\n",
    "    for subjIDX, subj in enumerate(SUBJ_LIST):\n",
    "        PSD_allblocs = []\n",
    "        VTC_allblocs = []\n",
    "        subjIDX_allblocs = []\n",
    "        for bloc in BLOCS_LIST:\n",
    "            INidx, OUTidx, VTC_epo, idx_trimmed = get_VTC_epochs(LOGS_DIR, subj, bloc, stage='epo', \n",
    "                                                                 lobound=None, hibound=None, save_epochs=False, \n",
    "                                                                 filt_order=3, filt_cutoff=0.1)\n",
    "            PSD_fname, PSD_fpath = get_SAflow_bids(FOLDERPATH, subj, bloc, stage='PSD', cond=None)\n",
    "            PSD = loadmat(PSD_fpath)['PSD']\n",
    "            PSD_trimmed = np.array([PSD[:,:,:,idx] for idx in idx_trimmed]).swapaxes(0,3).swapaxes(2,1).swapaxes(0,2)\n",
    "            PSD_trimmed = np.mean(PSD_trimmed, axis=2).squeeze()\n",
    "            subjIDX_epo = np.ones(VTC_epo.shape)*subjIDX\n",
    "            if len(PSD_allblocs)==0:\n",
    "                PSD_allblocs = PSD_trimmed\n",
    "                VTC_allblocs = VTC_epo\n",
    "                subjIDX_allblocs = subjIDX_epo\n",
    "\n",
    "            else:\n",
    "                PSD_allblocs = np.concatenate((PSD_allblocs, PSD_trimmed), axis=2)\n",
    "                VTC_allblocs = np.concatenate((VTC_allblocs, VTC_epo))\n",
    "                subjIDX_allblocs = np.concatenate((subjIDX_allblocs, subjIDX_epo))\n",
    "\n",
    "        if len(PSD_allsubj)==0:\n",
    "\n",
    "            PSD_allsubj = PSD_allblocs\n",
    "            VTC_allsubj = VTC_allblocs\n",
    "            subjIDX_allsubj = subjIDX_allblocs\n",
    "        else:\n",
    "            PSD_allsubj = np.concatenate((PSD_allsubj, PSD_allblocs), axis=2)\n",
    "            VTC_allsubj = np.concatenate((VTC_allsubj, VTC_allblocs))\n",
    "            subjIDX_allsubj = np.concatenate((subjIDX_allsubj, subjIDX_allblocs))\n",
    "    return PSD_allsubj, VTC_allsubj, subjIDX_allsubj"
   ]
  },
  {
   "cell_type": "code",
   "execution_count": null,
   "metadata": {},
   "outputs": [],
   "source": [
    "# sub-06_ses-recording_task-gradCPT_run-04_meg_1600epo.fif.gz)\n",
    "\n",
    "subj = '13'\n",
    "bloc = 6\n",
    "\n",
    "#for subj in SUBJ_LIST:\n",
    "#    for bloc in BLOCS_LIST:\n",
    "file = find_logfile(subj, bloc, os.listdir(LOGS_DIR))\n",
    "print(file)\n",
    "logfile = LOGS_DIR + '/' + file\n",
    "\n",
    "\n",
    "print('Nombre de valeurs dans le respfile :')\n",
    "data = loadmat(logfile)\n",
    "df_response = pd.DataFrame(data['response'])\n",
    "RT_array= np.asarray(df_response.loc[:,4])\n",
    "print(RT_array.shape)\n",
    "\n",
    "\n",
    "print('Nombre de valeurs dans la VTC : ')\n",
    "VTC, INbounds, OUTbounds, INzone, OUTzone, RT_array = get_VTC_from_file(logfile, lobound=None, hibound=None, filt=True, filt_order=3, filt_cutoff=0.1)\n",
    "print(VTC.shape)\n",
    "\n",
    "print('Nombre d''events dans le fichier raw')\n",
    "raw_fname, raw_fpath = get_SAflow_bids(FOLDERPATH, subj, bloc, stage='preproc_raw')\n",
    "raw = mne.io.read_raw_fif(raw_fpath, preload=False, verbose=False)\n",
    "try:\n",
    "    events = mne.find_events(raw, min_duration=1/raw.info['sfreq'], verbose=False)\n",
    "except ValueError:\n",
    "    events = mne.find_events(raw, min_duration=2/raw.info['sfreq'], verbose=False)\n",
    "count = 0\n",
    "new_events = []\n",
    "for ev in events:\n",
    "    if ev[2] == 21 or ev[2] == 31:\n",
    "        count = count +1\n",
    "        new_events.append(ev)\n",
    "print(count)\n"
   ]
  },
  {
   "cell_type": "code",
   "execution_count": null,
   "metadata": {},
   "outputs": [],
   "source": [
    "VTC_allsubj.shape\n"
   ]
  },
  {
   "cell_type": "code",
   "execution_count": null,
   "metadata": {},
   "outputs": [],
   "source": [
    "from scipy.io import savemat\n",
    "\n",
    "\n",
    "mat = {'PSD_allsubj':PSD_allsubj,\n",
    "      'VTC_allsubj':VTC_allsubj,\n",
    "      'subjIDX_allsubj':subjIDX_allsubj}\n",
    "\n",
    "savemat('/home/karim/pCloudDrive/science/saflow/features/PSD_VTCnosplit.mat', mat)"
   ]
  },
  {
   "cell_type": "code",
   "execution_count": null,
   "metadata": {},
   "outputs": [],
   "source": [
    "from scipy.io import loadmat\n",
    "\n",
    "mat = loadmat('/home/hyruuk/pCloudDrive/science/saflow/features/PSD_VTCnosplit.mat')\n",
    "\n",
    "PSD_allsubj = mat['PSD_allsubj']\n",
    "VTC_allsubj = mat['VTC_allsubj'].squeeze()\n",
    "subjIDX_allsubj = mat['subjIDX_allsubj'].squeeze()"
   ]
  },
  {
   "cell_type": "code",
   "execution_count": null,
   "metadata": {},
   "outputs": [],
   "source": [
    "PSD_allsubj.shape"
   ]
  },
  {
   "cell_type": "code",
   "execution_count": null,
   "metadata": {},
   "outputs": [],
   "source": [
    "\n",
    "\n",
    "data = sm.datasets.get_rdataset('dietox', 'geepack').data\n",
    "md = smf.mixedlm(\"Weight ~ Time\", data, groups=data[\"Pig\"])\n",
    "mdf = md.fit()\n",
    "print(mdf.summary())"
   ]
  },
  {
   "cell_type": "code",
   "execution_count": null,
   "metadata": {},
   "outputs": [],
   "source": [
    "\n",
    "#def create_df(PSD_allsubj, VTC_allsubj, subjIDX_allsubj, freq=0, chan=0):\n",
    "\n",
    "freq=0\n",
    "chan=54\n",
    "pval_allfreqs = []\n",
    "for freq in range(PSD_allsubj.shape[0]):\n",
    "    pval_allchans = []\n",
    "    for chan in range(PSD_allsubj.shape[1]):\n",
    "        data = {'PSD':scipy.stats.zscore(PSD_allsubj[freq,chan,:]), 'VTC':VTC_allsubj, 'subjIDX':subjIDX_allsubj.astype(int)}\n",
    "        df = pd.DataFrame(data=data)\n",
    "        md = smf.mixedlm(\"PSD ~ VTC\", data, groups=df[\"subjIDX\"])\n",
    "        mdf = md.fit()\n",
    "        print(mdf.summary())\n",
    "        #sns.scatterplot(x=\"VTC\", y=\"PSD\", hue='subjIDX', data=df)\n",
    "        pval_allchans.append(mdf.pvalues['VTC'])\n",
    "    pval_allchan = np.array(pval_allchans)\n",
    "    pval_allfreqs.append(pval_allchans) \n",
    "        "
   ]
  },
  {
   "cell_type": "code",
   "execution_count": null,
   "metadata": {},
   "outputs": [],
   "source": []
  },
  {
   "cell_type": "code",
   "execution_count": null,
   "metadata": {},
   "outputs": [],
   "source": []
  },
  {
   "cell_type": "code",
   "execution_count": null,
   "metadata": {},
   "outputs": [],
   "source": []
  },
  {
   "cell_type": "code",
   "execution_count": null,
   "metadata": {},
   "outputs": [],
   "source": [
    "\n",
    "\n"
   ]
  },
  {
   "cell_type": "code",
   "execution_count": null,
   "metadata": {},
   "outputs": [],
   "source": [
    "df"
   ]
  },
  {
   "cell_type": "code",
   "execution_count": null,
   "metadata": {},
   "outputs": [],
   "source": []
  }
 ],
 "metadata": {
  "kernelspec": {
   "display_name": "electrophy",
   "language": "python",
   "name": "electrophy"
  },
  "language_info": {
   "codemirror_mode": {
    "name": "ipython",
    "version": 3
   },
   "file_extension": ".py",
   "mimetype": "text/x-python",
   "name": "python",
   "nbconvert_exporter": "python",
   "pygments_lexer": "ipython3",
   "version": "3.7.3"
  }
 },
 "nbformat": 4,
 "nbformat_minor": 2
}
