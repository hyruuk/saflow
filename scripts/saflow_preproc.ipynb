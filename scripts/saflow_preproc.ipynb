{
 "cells": [
  {
   "cell_type": "code",
   "execution_count": 18,
   "metadata": {},
   "outputs": [
    {
     "data": {
      "application/javascript": [
       "IPython.notebook.set_autosave_interval(30000)"
      ]
     },
     "metadata": {},
     "output_type": "display_data"
    },
    {
     "name": "stdout",
     "output_type": "stream",
     "text": [
      "Autosaving every 30 seconds\n"
     ]
    }
   ],
   "source": [
    "from mne.preprocessing import ICA, create_eog_epochs, create_ecg_epochs\n",
    "from mne.io import read_raw_ctf, read_raw_fif\n",
    "from matplotlib.pyplot import plot as plt\n",
    "import mne\n",
    "import numpy as np\n",
    "from scipy.io import loadmat\n",
    "import pandas as pd\n",
    "import os\n",
    "from IPython.display import clear_output\n",
    "import time\n",
    "%matplotlib notebook\n",
    "%autosave 30"
   ]
  },
  {
   "cell_type": "code",
   "execution_count": 19,
   "metadata": {},
   "outputs": [],
   "source": [
    "folderpath = '/home/karim/DATA/DATAmeg_gradCPT/'\n",
    "savepath = folderpath + 'saflow_preproc/'\n",
    "subfolder = \"20190807/\"\n",
    "filepath = folderpath + subfolder\n"
   ]
  },
  {
   "cell_type": "code",
   "execution_count": null,
   "metadata": {},
   "outputs": [],
   "source": []
  },
  {
   "cell_type": "code",
   "execution_count": 20,
   "metadata": {
    "scrolled": false
   },
   "outputs": [],
   "source": [
    "def find_rawfile(subj, bloc, all_files):\n",
    "        \n",
    "    ### Find the right logfile for a specific subject and bloc in a list of log_files\n",
    "    # (typically the list of files in the log folder, obtained by \"os.listdir(LOGS_DIR)\")\n",
    "    for file in all_files:\n",
    "        if 'SAflow-yharel' in file and '.ds' in file:\n",
    "            if file[2:4] ==  subj and file[-4] == str(int(bloc)+1):\n",
    "                break\n",
    "    return file\n",
    "\n",
    "\n",
    "\n",
    "def saflow_PP(filename):\n",
    "    subject_id = filename[:4]\n",
    "    filepath = folderpath + subfolder + '/' + filename\n",
    "    bloc_id = filename[-5:-3] ### here change for a loop\n",
    "    raw_data = read_raw_ctf(filepath, preload=True)\n",
    "    picks = mne.pick_types(raw_data.info, meg=True, eog=True, exclude='bads')\n",
    "    raw_data.plot();\n",
    "    raw_data.plot_psd(average=False, picks=picks);\n",
    "\n",
    "    ## Filtering\n",
    "    high_cutoff = 200\n",
    "    low_cutoff = 0.5\n",
    "    raw_data.filter(low_cutoff, high_cutoff, fir_design=\"firwin\")\n",
    "    raw_data.notch_filter(np.arange(60, high_cutoff+1, 60), picks=picks, filter_length='auto',phase='zero', fir_design=\"firwin\")\n",
    "    raw_data.plot_psd(average=False, picks=picks);\n",
    "\n",
    "    ## ICA\n",
    "    ica = ICA(n_components=20, random_state=0).fit(raw_data, decim=3)\n",
    "    ica.plot_sources(raw_data);\n",
    "    fmax = 40. ## correlation threshold for ICA components (maybe increase to 40. ?)\n",
    "\n",
    "    ## FIND ECG COMPONENTS\n",
    "    ecg_epochs = create_ecg_epochs(raw_data, ch_name='EEG059')\n",
    "    ecg_inds, ecg_scores = ica.find_bads_ecg(ecg_epochs, ch_name='EEG059')\n",
    "    ica.plot_scores(ecg_scores, ecg_inds); \n",
    "    ica.plot_properties(ecg_epochs, picks=ecg_inds, psd_args={'fmax': fmax}, image_args={'sigma': 1.});\n",
    "\n",
    "    ## FIND EOG COMPONENTS\n",
    "    eog_epochs = create_eog_epochs(raw_data, ch_name='EEG057')\n",
    "    eog_inds, eog_scores = ica.find_bads_eog(eog_epochs, ch_name='EEG057')\n",
    "    ica.plot_scores(eog_scores, eog_inds);\n",
    "    ica.plot_properties(eog_epochs, picks=eog_inds, psd_args={'fmax': fmax}, image_args={'sigma': 1.});\n",
    "\n",
    "    ## EXCLUDE COMPONENTS\n",
    "    ica.exclude = ecg_inds\n",
    "    ica.apply(raw_data)\n",
    "    ica.exclude = eog_inds\n",
    "    ica.apply(raw_data)\n",
    "    raw_data.plot(); # Plot the clean signal.\n",
    "\n",
    "    ## SAVE PREPROCESSED FILE\n",
    "    time.sleep(60)\n",
    "    raw_data.save(savepath + subject_id + '_' + bloc_id + '_preprocessed.fif.gz', overwrite=True)\n",
    "    time.sleep(30)\n",
    "    #!jupyter nbconvert saflow_preproc.ipynb --output $filename\n",
    "    %notebook savepath+subject_id+'_'+bloc_id+'_preproclog.ipynb'\n",
    "    clear_output()"
   ]
  },
  {
   "cell_type": "code",
   "execution_count": 21,
   "metadata": {
    "scrolled": false
   },
   "outputs": [],
   "source": [
    "subj_list = ['09']\n",
    "blocs_list = ['1', '2', '3', '4', '5', '6']\n",
    "all_files = os.listdir(filepath)\n",
    "\n",
    "for subj in subj_list:\n",
    "    for bloc in blocs_list:\n",
    "        file = find_rawfile(subj, bloc, all_files)\n",
    "        saflow_PP(file)"
   ]
  },
  {
   "cell_type": "code",
   "execution_count": 15,
   "metadata": {
    "scrolled": true
   },
   "outputs": [],
   "source": [
    "#### CREATE A SCRIPT THAT RUNS THE PREPROC AND SAVES A REPORT FILE"
   ]
  },
  {
   "cell_type": "code",
   "execution_count": null,
   "metadata": {},
   "outputs": [],
   "source": []
  }
 ],
 "metadata": {
  "kernelspec": {
   "display_name": "electrophy",
   "language": "python",
   "name": "electrophy"
  },
  "language_info": {
   "codemirror_mode": {
    "name": "ipython",
    "version": 3
   },
   "file_extension": ".py",
   "mimetype": "text/x-python",
   "name": "python",
   "nbconvert_exporter": "python",
   "pygments_lexer": "ipython3",
   "version": "3.6.6"
  }
 },
 "nbformat": 4,
 "nbformat_minor": 2
}
