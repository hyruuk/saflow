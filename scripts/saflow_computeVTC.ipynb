{
 "cells": [
  {
   "cell_type": "code",
   "execution_count": 2,
   "metadata": {},
   "outputs": [],
   "source": [
    "from scipy.io import loadmat, savemat\n",
    "import pandas as pd\n",
    "import os\n",
    "import matplotlib.pyplot as plt\n",
    "from scipy import signal\n",
    "import numpy as np\n",
    "%matplotlib inline"
   ]
  },
  {
   "cell_type": "code",
   "execution_count": 15,
   "metadata": {},
   "outputs": [],
   "source": [
    "\n",
    "### VTC computation \n",
    "\n",
    "def interp_RT(RT):\n",
    "    ### Interpolate missing reaction times using the average of proximal values.\n",
    "    # Note that this technique behaves poorly when two 0 are following each other \n",
    "    for i in range(len(RT)):\n",
    "        if RT[i] == 0:\n",
    "            try:\n",
    "                RT[i] = np.mean((RT[i-1], RT[i+1]))\n",
    "            except:\n",
    "                RT[i] = RT[i-1]\n",
    "    RT_interpolated = RT\n",
    "    return RT_interpolated\n",
    "\n",
    "def compute_VTC(RT_interp, filt=True, filt_order=3, filt_cutoff=0.05):\n",
    "    ### Compute the variance time course (VTC) of the array RT_interp\n",
    "    VTC = (RT_interp - np.mean(RT_interp))/np.std(RT_interp)\n",
    "    if filt == True:\n",
    "        b, a = signal.butter(filt_order,filt_cutoff)\n",
    "        VTC_filtered = signal.filtfilt(b, a, abs(VTC))\n",
    "    VTC = VTC_filtered\n",
    "    return VTC\n",
    "\n",
    "def in_out_zone(VTC):\n",
    "    ### Collects the indices of IN/OUT zone trials     \n",
    "    INzone = []\n",
    "    OUTzone = []\n",
    "    VTC_med = np.median(VTC)\n",
    "    for i, val in enumerate(VTC):\n",
    "        if val < VTC_med:\n",
    "            INzone.append(i)\n",
    "        if val >= VTC_med:\n",
    "            OUTzone.append(i)\n",
    "    INzone = np.asarray(INzone)\n",
    "    OUTzone = np.asarray(OUTzone)\n",
    "    return INzone, OUTzone\n",
    "\n",
    "def find_bounds(array):\n",
    "    ### Create a list of tuples, each containing the first and last values of every ordered sequences\n",
    "    # contained in a 1D array\n",
    "    \n",
    "    def find_jumps(array):\n",
    "        ### Finds the jumps in an array containing ordered sequences\n",
    "        jumps = []\n",
    "        for i,_ in enumerate(array):\n",
    "            try:\n",
    "                if array[i+1] != array[i]+1:\n",
    "                    jumps.append(i)\n",
    "            except:\n",
    "                break\n",
    "        return jumps\n",
    "    \n",
    "    jumps = find_jumps(array)\n",
    "    bounds = []\n",
    "    for i, jump in enumerate(jumps):\n",
    "        if jump == jumps[0]:\n",
    "            bounds.append(tuple([array[0], array[jump]]))\n",
    "        else:\n",
    "            bounds.append(tuple([array[jumps[i-1]+1], array[jump]]))\n",
    "        if i == len(jumps)-1:\n",
    "            bounds.append(tuple([array[jump+1], array[-1]]))\n",
    "    return bounds\n",
    "\n",
    "def get_VTC_from_file(filepath):\n",
    "    data = loadmat(filepath)\n",
    "    df_response = pd.DataFrame(data['response'])\n",
    "    RT_array= np.asarray(df_response.loc[:,4])\n",
    "    RT_interp = interp_RT(RT_array)\n",
    "    VTC = compute_VTC(RT_interp)\n",
    "    INzone, OUTzone = in_out_zone(VTC)\n",
    "    INbounds = find_bounds(INzone)\n",
    "    OUTbounds = find_bounds(OUTzone)\n",
    "    return VTC, INbounds, OUTbounds, INzone, OUTzone\n",
    "\n",
    "def plot_VTC(VTC, figpath=None, save=False):\n",
    "    x = np.arange(0, len(VTC))\n",
    "    OUT_mask = np.ma.masked_where(VTC >= np.median(VTC), VTC)\n",
    "    IN_mask = np.ma.masked_where(VTC < np.median(VTC), VTC)\n",
    "    lines = plt.plot(x, OUT_mask, x, IN_mask)\n",
    "    fig = plt.plot()\n",
    "    plt.setp(lines[0], linewidth=2)\n",
    "    plt.setp(lines[1], linewidth=2)\n",
    "    plt.legend(('IN zone', 'OUT zone'), loc='upper right')\n",
    "    plt.title('IN vs OUT zone')\n",
    "    if save == True:\n",
    "        plt.savefig(figpath)\n",
    "    plt.show()\n"
   ]
  },
  {
   "cell_type": "code",
   "execution_count": 17,
   "metadata": {},
   "outputs": [
    {
     "data": {
      "image/png": "[encoded data removed]",
      "text/plain": [
       "<Figure size 432x288 with 1 Axes>"
      ]
     },
     "metadata": {
      "needs_background": "light"
     },
     "output_type": "display_data"
    },
    {
     "data": {
      "text/plain": [
       "(598,)"
      ]
     },
     "execution_count": 17,
     "metadata": {},
     "output_type": "execute_result"
    }
   ],
   "source": [
    "LOGS_DIR = \"/home/karim/pCloudDrive/science/saflow/gradCPT/gradCPT_share_Mac_PC/gradCPT_share_Mac_PC/saflow_data/\"\n",
    "#LOGS_DIR = 'P:\\\\science\\\\saflow\\\\gradCPT\\\\gradCPT_share_Mac_PC\\\\gradCPT_share_Mac_PC\\\\saflow_data\\\\'\n",
    "#LOGS_DIR ='/home/hyruuk/Documents/saflow_temp/saflow_data/'\n",
    "files_list = os.listdir(LOGS_DIR)\n",
    "test_file = 'Data_0_04_4_11-Apr-2019_10_48_city_mnt_v1B_beh_fMRI.mat'\n",
    "test_file_path = LOGS_DIR + test_file\n",
    "\n",
    "VTC, INbounds, OUTbounds, INzone, OUTzone = get_VTC_from_file(test_file_path)\n",
    "#plot_VTC(VTC, save=True, figpath=LOGS_DIR + 'test_fig.png')\n",
    "plot_VTC(VTC)\n",
    "VTC.shape"
   ]
  },
  {
   "cell_type": "code",
   "execution_count": 18,
   "metadata": {},
   "outputs": [
    {
     "name": "stdout",
     "output_type": "stream",
     "text": [
      "[  0   1   2   3   4   5   6   7   8   9  18  19  20  21  22  23  24  25\n",
      "  26  27  28  29  30  31  32  33  34  35  36  37  38  39  40  41  42  43\n",
      "  44  45  46  47  99 100 101 102 103 104 105 106 107 108 109 110 111 112\n",
      " 113 114 115 116 117 118 119 120 121 122 123 124 125 126 127 128 129 130\n",
      " 131 132 133 164 165 166 167 168 169 170 171 172 173 174 196 197 198 199\n",
      " 200 201 202 203 204 205 206 207 208 209 210 211 212 213 214 215 216 217\n",
      " 218 258 259 260 261 262 263 264 265 266 267 268 269 270 271 272 273 274\n",
      " 275 276 277 278 279 280 281 282 283 284 285 286 287 288 289 290 291 292\n",
      " 293 294 295 296 297 298 299 300 301 302 303 304 305 306 307 308 309 310\n",
      " 311 312 313 314 315 316 317 318 319 320 321 322 323 324 325 326 327 328\n",
      " 329 330 331 332 333 334 363 364 365 366 367 368 369 370 371 372 373 374\n",
      " 375 376 377 378 379 380 381 382 383 384 385 386 387 388 389 390 391 392\n",
      " 393 394 395 396 397 398 399 400 401 402 403 404 405 406 407 408 409 410\n",
      " 411 458 459 460 461 462 463 464 465 466 467 468 469 470 471 472 473 474\n",
      " 475 476 477 478 479 480 481 482 483 484 485 486 487 488 489 490 491 492\n",
      " 493 494 495 496 497 498 499 500 501 502 579 580 581 582 583 584 585 586\n",
      " 587 588 589 590 591 592 593 594 595 596 597]\n",
      "[(10, 17), (48, 98), (134, 163), (175, 195), (219, 257), (335, 362), (412, 457), (503, 578)]\n"
     ]
    }
   ],
   "source": [
    "print(INzone)\n",
    "print(OUTbounds)"
   ]
  },
  {
   "cell_type": "code",
   "execution_count": 20,
   "metadata": {},
   "outputs": [
    {
     "data": {
      "text/plain": [
       "(299,)"
      ]
     },
     "execution_count": 20,
     "metadata": {},
     "output_type": "execute_result"
    }
   ],
   "source": [
    "OUTzone.shape"
   ]
  },
  {
   "cell_type": "code",
   "execution_count": null,
   "metadata": {},
   "outputs": [],
   "source": []
  },
  {
   "cell_type": "code",
   "execution_count": 18,
   "metadata": {},
   "outputs": [
    {
     "data": {
      "text/plain": [
       "[<matplotlib.lines.Line2D at 0x7f7782f88da0>]"
      ]
     },
     "execution_count": 18,
     "metadata": {},
     "output_type": "execute_result"
    },
    {
     "data": {
      "image/png": "[encoded data removed]",
      "text/plain": [
       "<Figure size 432x288 with 1 Axes>"
      ]
     },
     "metadata": {
      "needs_background": "light"
     },
     "output_type": "display_data"
    }
   ],
   "source": [
    "plt.plot(VTC)"
   ]
  },
  {
   "cell_type": "code",
   "execution_count": 12,
   "metadata": {},
   "outputs": [
    {
     "name": "stderr",
     "output_type": "stream",
     "text": [
      "/home/karim/electrophy/lib/python3.6/site-packages/scipy-1.1.0-py3.6-linux-x86_64.egg/scipy/signal/_arraytools.py:45: FutureWarning: Using a non-tuple sequence for multidimensional indexing is deprecated; use `arr[tuple(seq)]` instead of `arr[seq]`. In the future this will be interpreted as an array index, `arr[np.array(seq)]`, which will result either in an error or a different result.\n",
      "  b = a[a_slice]\n"
     ]
    },
    {
     "data": {
      "text/plain": [
       "[<matplotlib.lines.Line2D at 0x7f778301d710>]"
      ]
     },
     "execution_count": 12,
     "metadata": {},
     "output_type": "execute_result"
    },
    {
     "data": {
      "image/png": "[encoded data removed]",
      "text/plain": [
       "<Figure size 432x288 with 1 Axes>"
      ]
     },
     "metadata": {
      "needs_background": "light"
     },
     "output_type": "display_data"
    }
   ],
   "source": [
    "### Low-pass filtering of the VTC curve\n",
    "### (two-pass convolution by butterworth kernel, right?)\n",
    "\n",
    "plt.plot(VTC_filtered)\n",
    "#plt.savefig('VTC_python.png')"
   ]
  },
  {
   "cell_type": "code",
   "execution_count": 35,
   "metadata": {},
   "outputs": [
    {
     "data": {
      "text/plain": [
       "(1, 2)"
      ]
     },
     "execution_count": 35,
     "metadata": {},
     "output_type": "execute_result"
    }
   ],
   "source": []
  },
  {
   "cell_type": "code",
   "execution_count": 2,
   "metadata": {},
   "outputs": [
    {
     "ename": "NameError",
     "evalue": "name 'in_out_zone' is not defined",
     "output_type": "error",
     "traceback": [
      "\u001b[0;31m---------------------------------------------------------------------------\u001b[0m",
      "\u001b[0;31mNameError\u001b[0m                                 Traceback (most recent call last)",
      "\u001b[0;32m<ipython-input-2-4af0cd73fbd9>\u001b[0m in \u001b[0;36m<module>\u001b[0;34m\u001b[0m\n\u001b[1;32m      4\u001b[0m \u001b[0;34m\u001b[0m\u001b[0m\n\u001b[1;32m      5\u001b[0m \u001b[0;34m\u001b[0m\u001b[0m\n\u001b[0;32m----> 6\u001b[0;31m \u001b[0mINzone\u001b[0m\u001b[0;34m,\u001b[0m \u001b[0mOUTzone\u001b[0m \u001b[0;34m=\u001b[0m \u001b[0min_out_zone\u001b[0m\u001b[0;34m(\u001b[0m\u001b[0mVTC_filtered\u001b[0m\u001b[0;34m)\u001b[0m\u001b[0;34m\u001b[0m\u001b[0;34m\u001b[0m\u001b[0m\n\u001b[0m\u001b[1;32m      7\u001b[0m \u001b[0mprint\u001b[0m\u001b[0;34m(\u001b[0m\u001b[0mINzone\u001b[0m\u001b[0;34m)\u001b[0m\u001b[0;34m\u001b[0m\u001b[0;34m\u001b[0m\u001b[0m\n\u001b[1;32m      8\u001b[0m \u001b[0mINbounds\u001b[0m \u001b[0;34m=\u001b[0m \u001b[0mfind_bounds\u001b[0m\u001b[0;34m(\u001b[0m\u001b[0mINzone\u001b[0m\u001b[0;34m)\u001b[0m\u001b[0;34m\u001b[0m\u001b[0;34m\u001b[0m\u001b[0m\n",
      "\u001b[0;31mNameError\u001b[0m: name 'in_out_zone' is not defined"
     ]
    }
   ],
   "source": [
    "### Compute the median and get tuples for in-zone/out-zone periods\n",
    "# OUTPUTS : 2 lists of tuples, one for In and other for Out zone, each tuple indicates a \"period\"\n",
    "\n",
    "\n",
    "\n",
    "INzone, OUTzone = in_out_zone(VTC_filtered)\n",
    "print(INzone)\n",
    "INbounds = find_bounds(INzone)\n",
    "OUTbounds = find_bounds(OUTzone)\n",
    "print(INbounds)\n",
    "print(OUTbounds)\n",
    "    \n",
    "#    if val > VTC_med:\n",
    "#        if VTC_filtered[i-1] < VTC_med:\n",
    "#            med_crossings.append(i)\n",
    "#    if val < VTC_med:\n",
    "#        if VTC_filtered[i-1] > VTC_med:\n",
    "#            med_crossings.append(i)\n",
    "            \n",
    "#print(med_crossings)"
   ]
  },
  {
   "cell_type": "code",
   "execution_count": 80,
   "metadata": {},
   "outputs": [
    {
     "data": {
      "text/plain": [
       "[(0, 2),\n",
       " (31, 68),\n",
       " (97, 113),\n",
       " (149, 167),\n",
       " (208, 229),\n",
       " (257, 290),\n",
       " (295, 410),\n",
       " (461, 478),\n",
       " (542, 573)]"
      ]
     },
     "execution_count": 80,
     "metadata": {},
     "output_type": "execute_result"
    }
   ],
   "source": [
    "### For plotting VTC curve with In/Out-zone \n",
    "### Créer LineCollection object pour plot la ligne avec \n",
    "    # différentes couleurs pour In/Out zone\n",
    "    # https://matplotlib.org/examples/pylab_examples/multicolored_line.html\n",
    "\n",
    "\n",
    "\n",
    "def find_bounds(array):\n",
    "    def find_jumps(array):\n",
    "        jumps = []\n",
    "        for i,_ in enumerate(array):\n",
    "            try:\n",
    "                if array[i+1] != array[i]+1:\n",
    "                    jumps.append(i)\n",
    "            except:\n",
    "                break\n",
    "        return jumps\n",
    "    \n",
    "    jumps = find_jumps(array)\n",
    "    bounds = []\n",
    "    for i, jump in enumerate(jumps):\n",
    "        if jump == jumps[0]:\n",
    "            bounds.append(tuple([array[0], array[jump]]))\n",
    "        else:\n",
    "            bounds.append(tuple([array[jumps[i-1]+1], array[jump]]))\n",
    "        if i == len(jumps)-1:\n",
    "            bounds.append(tuple([array[jump+1], array[-1]]))\n",
    "    return bounds\n",
    "\n",
    "\n",
    "OUTbounds"
   ]
  },
  {
   "cell_type": "code",
   "execution_count": 1,
   "metadata": {},
   "outputs": [
    {
     "ename": "NameError",
     "evalue": "name 'INbounds' is not defined",
     "output_type": "error",
     "traceback": [
      "\u001b[0;31m---------------------------------------------------------------------------\u001b[0m",
      "\u001b[0;31mNameError\u001b[0m                                 Traceback (most recent call last)",
      "\u001b[0;32m<ipython-input-1-ac47f37f724d>\u001b[0m in \u001b[0;36m<module>\u001b[0;34m\u001b[0m\n\u001b[0;32m----> 1\u001b[0;31m \u001b[0mprint\u001b[0m\u001b[0;34m(\u001b[0m\u001b[0mINbounds\u001b[0m\u001b[0;34m)\u001b[0m\u001b[0;34m\u001b[0m\u001b[0;34m\u001b[0m\u001b[0m\n\u001b[0m",
      "\u001b[0;31mNameError\u001b[0m: name 'INbounds' is not defined"
     ]
    }
   ],
   "source": [
    "print(INbounds)"
   ]
  },
  {
   "cell_type": "code",
   "execution_count": null,
   "metadata": {},
   "outputs": [],
   "source": []
  },
  {
   "cell_type": "code",
   "execution_count": null,
   "metadata": {},
   "outputs": [],
   "source": []
  },
  {
   "cell_type": "code",
   "execution_count": null,
   "metadata": {
    "scrolled": false
   },
   "outputs": [],
   "source": []
  },
  {
   "cell_type": "code",
   "execution_count": 14,
   "metadata": {},
   "outputs": [
    {
     "ename": "FileNotFoundError",
     "evalue": "[Errno 2] No such file or directory: 'P:\\\\science\\\\saflow\\\\gradCPT\\\\scripts\\\\testVTC.mat'",
     "output_type": "error",
     "traceback": [
      "\u001b[0;31m---------------------------------------------------------------------------\u001b[0m",
      "\u001b[0;31mFileNotFoundError\u001b[0m                         Traceback (most recent call last)",
      "\u001b[0;32m~/electrophy/lib/python3.6/site-packages/scipy-1.1.0-py3.6-linux-x86_64.egg/scipy/io/matlab/mio.py\u001b[0m in \u001b[0;36m_open_file\u001b[0;34m(file_like, appendmat)\u001b[0m\n\u001b[1;32m     32\u001b[0m     \u001b[0;32mtry\u001b[0m\u001b[0;34m:\u001b[0m\u001b[0;34m\u001b[0m\u001b[0;34m\u001b[0m\u001b[0m\n\u001b[0;32m---> 33\u001b[0;31m         \u001b[0;32mreturn\u001b[0m \u001b[0mopen\u001b[0m\u001b[0;34m(\u001b[0m\u001b[0mfile_like\u001b[0m\u001b[0;34m,\u001b[0m \u001b[0;34m'rb'\u001b[0m\u001b[0;34m)\u001b[0m\u001b[0;34m,\u001b[0m \u001b[0;32mTrue\u001b[0m\u001b[0;34m\u001b[0m\u001b[0;34m\u001b[0m\u001b[0m\n\u001b[0m\u001b[1;32m     34\u001b[0m     \u001b[0;32mexcept\u001b[0m \u001b[0mIOError\u001b[0m\u001b[0;34m:\u001b[0m\u001b[0;34m\u001b[0m\u001b[0;34m\u001b[0m\u001b[0m\n",
      "\u001b[0;31mFileNotFoundError\u001b[0m: [Errno 2] No such file or directory: 'P:\\\\science\\\\saflow\\\\gradCPT\\\\scripts\\\\testVTC.mat'",
      "\nDuring handling of the above exception, another exception occurred:\n",
      "\u001b[0;31mFileNotFoundError\u001b[0m                         Traceback (most recent call last)",
      "\u001b[0;32m<ipython-input-14-cde56ea55759>\u001b[0m in \u001b[0;36m<module>\u001b[0;34m\u001b[0m\n\u001b[0;32m----> 1\u001b[0;31m \u001b[0mVTC_matlab\u001b[0m \u001b[0;34m=\u001b[0m \u001b[0mnp\u001b[0m\u001b[0;34m.\u001b[0m\u001b[0masarray\u001b[0m\u001b[0;34m(\u001b[0m\u001b[0mloadmat\u001b[0m\u001b[0;34m(\u001b[0m\u001b[0;34m'P:\\science\\saflow\\gradCPT\\scripts\\\\testVTC.mat'\u001b[0m\u001b[0;34m)\u001b[0m\u001b[0;34m[\u001b[0m\u001b[0;34m'Output'\u001b[0m\u001b[0;34m]\u001b[0m\u001b[0;34m)\u001b[0m\u001b[0;34m.\u001b[0m\u001b[0msqueeze\u001b[0m\u001b[0;34m(\u001b[0m\u001b[0;34m)\u001b[0m\u001b[0;34m\u001b[0m\u001b[0;34m\u001b[0m\u001b[0m\n\u001b[0m\u001b[1;32m      2\u001b[0m \u001b[0mplt\u001b[0m\u001b[0;34m.\u001b[0m\u001b[0mplot\u001b[0m\u001b[0;34m(\u001b[0m\u001b[0mVTC_matlab\u001b[0m\u001b[0;34m)\u001b[0m\u001b[0;34m\u001b[0m\u001b[0;34m\u001b[0m\u001b[0m\n\u001b[1;32m      3\u001b[0m \u001b[0;31m#plt.savefig('VTC_matlab.png')\u001b[0m\u001b[0;34m\u001b[0m\u001b[0;34m\u001b[0m\u001b[0;34m\u001b[0m\u001b[0m\n",
      "\u001b[0;32m~/electrophy/lib/python3.6/site-packages/scipy-1.1.0-py3.6-linux-x86_64.egg/scipy/io/matlab/mio.py\u001b[0m in \u001b[0;36mloadmat\u001b[0;34m(file_name, mdict, appendmat, **kwargs)\u001b[0m\n\u001b[1;32m    139\u001b[0m     \"\"\"\n\u001b[1;32m    140\u001b[0m     \u001b[0mvariable_names\u001b[0m \u001b[0;34m=\u001b[0m \u001b[0mkwargs\u001b[0m\u001b[0;34m.\u001b[0m\u001b[0mpop\u001b[0m\u001b[0;34m(\u001b[0m\u001b[0;34m'variable_names'\u001b[0m\u001b[0;34m,\u001b[0m \u001b[0;32mNone\u001b[0m\u001b[0;34m)\u001b[0m\u001b[0;34m\u001b[0m\u001b[0;34m\u001b[0m\u001b[0m\n\u001b[0;32m--> 141\u001b[0;31m     \u001b[0mMR\u001b[0m\u001b[0;34m,\u001b[0m \u001b[0mfile_opened\u001b[0m \u001b[0;34m=\u001b[0m \u001b[0mmat_reader_factory\u001b[0m\u001b[0;34m(\u001b[0m\u001b[0mfile_name\u001b[0m\u001b[0;34m,\u001b[0m \u001b[0mappendmat\u001b[0m\u001b[0;34m,\u001b[0m \u001b[0;34m**\u001b[0m\u001b[0mkwargs\u001b[0m\u001b[0;34m)\u001b[0m\u001b[0;34m\u001b[0m\u001b[0;34m\u001b[0m\u001b[0m\n\u001b[0m\u001b[1;32m    142\u001b[0m     \u001b[0mmatfile_dict\u001b[0m \u001b[0;34m=\u001b[0m \u001b[0mMR\u001b[0m\u001b[0;34m.\u001b[0m\u001b[0mget_variables\u001b[0m\u001b[0;34m(\u001b[0m\u001b[0mvariable_names\u001b[0m\u001b[0;34m)\u001b[0m\u001b[0;34m\u001b[0m\u001b[0;34m\u001b[0m\u001b[0m\n\u001b[1;32m    143\u001b[0m     \u001b[0;32mif\u001b[0m \u001b[0mmdict\u001b[0m \u001b[0;32mis\u001b[0m \u001b[0;32mnot\u001b[0m \u001b[0;32mNone\u001b[0m\u001b[0;34m:\u001b[0m\u001b[0;34m\u001b[0m\u001b[0;34m\u001b[0m\u001b[0m\n",
      "\u001b[0;32m~/electrophy/lib/python3.6/site-packages/scipy-1.1.0-py3.6-linux-x86_64.egg/scipy/io/matlab/mio.py\u001b[0m in \u001b[0;36mmat_reader_factory\u001b[0;34m(file_name, appendmat, **kwargs)\u001b[0m\n\u001b[1;32m     62\u001b[0m \u001b[0;34m\u001b[0m\u001b[0m\n\u001b[1;32m     63\u001b[0m     \"\"\"\n\u001b[0;32m---> 64\u001b[0;31m     \u001b[0mbyte_stream\u001b[0m\u001b[0;34m,\u001b[0m \u001b[0mfile_opened\u001b[0m \u001b[0;34m=\u001b[0m \u001b[0m_open_file\u001b[0m\u001b[0;34m(\u001b[0m\u001b[0mfile_name\u001b[0m\u001b[0;34m,\u001b[0m \u001b[0mappendmat\u001b[0m\u001b[0;34m)\u001b[0m\u001b[0;34m\u001b[0m\u001b[0;34m\u001b[0m\u001b[0m\n\u001b[0m\u001b[1;32m     65\u001b[0m     \u001b[0mmjv\u001b[0m\u001b[0;34m,\u001b[0m \u001b[0mmnv\u001b[0m \u001b[0;34m=\u001b[0m \u001b[0mget_matfile_version\u001b[0m\u001b[0;34m(\u001b[0m\u001b[0mbyte_stream\u001b[0m\u001b[0;34m)\u001b[0m\u001b[0;34m\u001b[0m\u001b[0;34m\u001b[0m\u001b[0m\n\u001b[1;32m     66\u001b[0m     \u001b[0;32mif\u001b[0m \u001b[0mmjv\u001b[0m \u001b[0;34m==\u001b[0m \u001b[0;36m0\u001b[0m\u001b[0;34m:\u001b[0m\u001b[0;34m\u001b[0m\u001b[0;34m\u001b[0m\u001b[0m\n",
      "\u001b[0;32m~/electrophy/lib/python3.6/site-packages/scipy-1.1.0-py3.6-linux-x86_64.egg/scipy/io/matlab/mio.py\u001b[0m in \u001b[0;36m_open_file\u001b[0;34m(file_like, appendmat)\u001b[0m\n\u001b[1;32m     37\u001b[0m             \u001b[0;32mif\u001b[0m \u001b[0mappendmat\u001b[0m \u001b[0;32mand\u001b[0m \u001b[0;32mnot\u001b[0m \u001b[0mfile_like\u001b[0m\u001b[0;34m.\u001b[0m\u001b[0mendswith\u001b[0m\u001b[0;34m(\u001b[0m\u001b[0;34m'.mat'\u001b[0m\u001b[0;34m)\u001b[0m\u001b[0;34m:\u001b[0m\u001b[0;34m\u001b[0m\u001b[0;34m\u001b[0m\u001b[0m\n\u001b[1;32m     38\u001b[0m                 \u001b[0mfile_like\u001b[0m \u001b[0;34m+=\u001b[0m \u001b[0;34m'.mat'\u001b[0m\u001b[0;34m\u001b[0m\u001b[0;34m\u001b[0m\u001b[0m\n\u001b[0;32m---> 39\u001b[0;31m             \u001b[0;32mreturn\u001b[0m \u001b[0mopen\u001b[0m\u001b[0;34m(\u001b[0m\u001b[0mfile_like\u001b[0m\u001b[0;34m,\u001b[0m \u001b[0;34m'rb'\u001b[0m\u001b[0;34m)\u001b[0m\u001b[0;34m,\u001b[0m \u001b[0;32mTrue\u001b[0m\u001b[0;34m\u001b[0m\u001b[0;34m\u001b[0m\u001b[0m\n\u001b[0m\u001b[1;32m     40\u001b[0m         \u001b[0;32melse\u001b[0m\u001b[0;34m:\u001b[0m\u001b[0;34m\u001b[0m\u001b[0;34m\u001b[0m\u001b[0m\n\u001b[1;32m     41\u001b[0m             \u001b[0;32mraise\u001b[0m \u001b[0mIOError\u001b[0m\u001b[0;34m(\u001b[0m\u001b[0;34m'Reader needs file name or open file-like object'\u001b[0m\u001b[0;34m)\u001b[0m\u001b[0;34m\u001b[0m\u001b[0;34m\u001b[0m\u001b[0m\n",
      "\u001b[0;31mFileNotFoundError\u001b[0m: [Errno 2] No such file or directory: 'P:\\\\science\\\\saflow\\\\gradCPT\\\\scripts\\\\testVTC.mat'"
     ]
    }
   ],
   "source": [
    "VTC_matlab = np.asarray(loadmat('P:\\science\\saflow\\gradCPT\\scripts\\\\testVTC.mat')['Output']).squeeze()\n",
    "plt.plot(VTC_matlab)\n",
    "#plt.savefig('VTC_matlab.png') "
   ]
  },
  {
   "cell_type": "code",
   "execution_count": null,
   "metadata": {
    "collapsed": true
   },
   "outputs": [],
   "source": []
  },
  {
   "cell_type": "code",
   "execution_count": null,
   "metadata": {},
   "outputs": [],
   "source": []
  },
  {
   "cell_type": "code",
   "execution_count": null,
   "metadata": {
    "collapsed": true
   },
   "outputs": [],
   "source": []
  },
  {
   "cell_type": "code",
   "execution_count": null,
   "metadata": {
    "collapsed": true
   },
   "outputs": [],
   "source": []
  },
  {
   "cell_type": "code",
   "execution_count": null,
   "metadata": {},
   "outputs": [],
   "source": []
  },
  {
   "cell_type": "code",
   "execution_count": null,
   "metadata": {
    "collapsed": true
   },
   "outputs": [],
   "source": []
  },
  {
   "cell_type": "code",
   "execution_count": null,
   "metadata": {
    "collapsed": true
   },
   "outputs": [],
   "source": []
  },
  {
   "cell_type": "code",
   "execution_count": null,
   "metadata": {},
   "outputs": [],
   "source": []
  },
  {
   "cell_type": "code",
   "execution_count": null,
   "metadata": {
    "collapsed": true
   },
   "outputs": [],
   "source": []
  },
  {
   "cell_type": "code",
   "execution_count": null,
   "metadata": {
    "collapsed": true
   },
   "outputs": [],
   "source": []
  }
 ],
 "metadata": {
  "anaconda-cloud": {},
  "kernelspec": {
   "display_name": "electrophy",
   "language": "python",
   "name": "electrophy"
  },
  "language_info": {
   "codemirror_mode": {
    "name": "ipython",
    "version": 3
   },
   "file_extension": ".py",
   "mimetype": "text/x-python",
   "name": "python",
   "nbconvert_exporter": "python",
   "pygments_lexer": "ipython3",
   "version": "3.6.6"
  }
 },
 "nbformat": 4,
 "nbformat_minor": 2
}
